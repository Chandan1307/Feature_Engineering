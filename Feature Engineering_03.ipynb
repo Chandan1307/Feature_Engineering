{
 "cells": [
  {
   "cell_type": "markdown",
   "id": "3b935e15-a7d6-4fd7-9409-f0a83abf17f6",
   "metadata": {},
   "source": [
    "# Q1. What is the difference between Ordinal Encoding and Label Encoding? Provide an example of when you might choose one over the other."
   ]
  },
  {
   "cell_type": "markdown",
   "id": "f5d4d633-6d47-4db1-a9f9-94bc3c9281be",
   "metadata": {},
   "source": [
    "Ordinal Encoding and Label Encoding are both techniques used to convert categorical variables into numerical values. However, there is a subtle difference between the two.\n",
    "\n",
    "Ordinal Encoding is used when there is a clear order or hierarchy among the categories. For example, suppose we have a dataset containing information about different levels of education, such as \"High School,\" \"Bachelor's,\" \"Master's,\" and \"Doctorate.\" In this case, we can assign numerical values to each level of education based on their order. For instance, we can assign \"High School\" as 1, \"Bachelor's\" as 2, \"Master's\" as 3, and \"Doctorate\" as 4.\n",
    "\n",
    "On the other hand, Label Encoding is used when there is no inherent order or hierarchy among the categories. In this case, we can assign a unique numerical value to each category. For example, if we have a dataset containing information about different types of fruits, such as \"Apple,\" \"Banana,\" \"Orange,\" and \"Mango,\" we can assign \"Apple\" as 1, \"Banana\" as 2, \"Orange\" as 3, and \"Mango\" as 4.\n",
    "\n",
    "We might choose one over the other depending on the nature of the data and the specific problem we are trying to solve. If there is a clear order among the categories, we should use Ordinal Encoding to preserve that information in our model. On the other hand, if there is no inherent order among the categories, we should use Label Encoding to avoid introducing any spurious relationships in the model.\n"
   ]
  },
  {
   "cell_type": "markdown",
   "id": "7aa33bb4-2df1-4c72-b179-3e3f47726e41",
   "metadata": {},
   "source": [
    "# Q2. Explain how Target Guided Ordinal Encoding works and provide an example of when you might use it in a machine learning project."
   ]
  },
  {
   "cell_type": "markdown",
   "id": "16ce0473-cce6-45bd-b58d-9b074ae998c7",
   "metadata": {},
   "source": [
    "Target Guided Ordinal Encoding is a technique that involves encoding categorical variables based on the target variable to predict. The idea is to create an ordered relationship between the categories of a categorical variable and the target variable.\n",
    "\n",
    "The steps involved in Target Guided Ordinal Encoding are as follows:\n",
    "\n",
    "1. Determine the target variable in the dataset.\n",
    "2. Group the categories of the categorical variable based on their relationship with the target variable.\n",
    "3. Assign an ordinal value to each group based on the average target value for that group. For example, if there are 5 groups, the ordinal values could range from 1 to 5.\n",
    "4. Replace the categorical variable with the ordinal values.\n",
    "\n",
    "An example of when to use Target Guided Ordinal Encoding is in a marketing campaign where you want to predict which customers are most likely to buy a product. The dataset may contain a categorical variable such as \"income level,\" and by using Target Guided Ordinal Encoding, you can group the categories based on their relationship with the target variable \"purchase\" and assign an ordinal value to each group based on the average purchase rate. This will create an ordered relationship between the categories of \"income level\" and the likelihood of purchase, allowing you to use this variable in your machine learning model."
   ]
  },
  {
   "cell_type": "markdown",
   "id": "84043e27-045c-435e-9d81-ade4e2f65fc6",
   "metadata": {},
   "source": [
    "# Q3. Define covariance and explain why it is important in statistical analysis. How is covariance calculated?"
   ]
  },
  {
   "cell_type": "markdown",
   "id": "642d92cf-351f-4656-ab5d-a40636a13c0f",
   "metadata": {},
   "source": [
    "Covariance is a measure of how two variables are related to each other. Specifically, it measures the joint variability of two random variables. If the two variables tend to vary together in a similar way, the covariance will be positive. If they tend to vary in opposite ways, the covariance will be negative. If the two variables are not related, the covariance will be close to zero.\n",
    "\n",
    "In statistical analysis, covariance is important because it helps us understand the relationship between two variables. For example, if we are studying the relationship between education level and income, we can use covariance to measure how much variation in income is explained by education level. Covariance can also be used to identify patterns in data and to determine whether certain variables are more or less important in explaining variation in the data.\n",
    "\n",
    "Covariance is calculated using the following formula:\n",
    "\n",
    "Cov(X, Y) = E[(X - E[X])(Y - E[Y])]\n",
    "\n",
    "Where X and Y are the two random variables, E[X] and E[Y] are the expected values of X and Y, and the parentheses represent the deviation of each variable from its expected value."
   ]
  },
  {
   "cell_type": "code",
   "execution_count": 6,
   "id": "c79598d1-0cb6-48f1-924b-4413fc3df023",
   "metadata": {},
   "outputs": [
    {
     "name": "stdout",
     "output_type": "stream",
     "text": [
      "Covariance between X and Y: -0.1103405529813412\n"
     ]
    }
   ],
   "source": [
    "import numpy as np\n",
    "\n",
    "# Generate two random variables\n",
    "X = np.random.normal(0, 1, 100)\n",
    "Y = np.random.normal(0, 1, 100)\n",
    "\n",
    "# Calculate the covariance between X and Y\n",
    "covariance = np.cov(X, Y)[0, 1]\n",
    "\n",
    "print(\"Covariance between X and Y:\", covariance)\n"
   ]
  },
  {
   "cell_type": "markdown",
   "id": "b30decb3-7d96-4fc1-b21f-6543a5a825f5",
   "metadata": {},
   "source": [
    "# Q4. For a dataset with the following categorical variables: Color (red, green, blue), Size (small, medium,large), and Material (wood, metal, plastic), perform label encoding using Python's scikit-learn library. Show your code and explain the output."
   ]
  },
  {
   "cell_type": "code",
   "execution_count": 1,
   "id": "f059e78a-c275-41e8-a4e7-b31d4a815656",
   "metadata": {},
   "outputs": [
    {
     "name": "stdout",
     "output_type": "stream",
     "text": [
      "   Color  Size  Material\n",
      "0      2     1         2\n",
      "1      1     2         1\n",
      "2      0     0         0\n",
      "3      2     1         0\n",
      "4      1     2         1\n"
     ]
    }
   ],
   "source": [
    "from sklearn.preprocessing import LabelEncoder\n",
    "import pandas as pd\n",
    "\n",
    "# create the dataset\n",
    "data = {'Color': ['red', 'green', 'blue', 'red', 'green'],\n",
    "        'Size': ['medium', 'small', 'large', 'medium', 'small'],\n",
    "        'Material': ['wood', 'plastic', 'metal', 'metal', 'plastic']}\n",
    "df = pd.DataFrame(data)\n",
    "\n",
    "# create an instance of LabelEncoder\n",
    "le = LabelEncoder()\n",
    "\n",
    "# apply label encoding to each column\n",
    "df['Color'] = le.fit_transform(df['Color'])\n",
    "df['Size'] = le.fit_transform(df['Size'])\n",
    "df['Material'] = le.fit_transform(df['Material'])\n",
    "\n",
    "# print the encoded dataset\n",
    "print(df)"
   ]
  },
  {
   "cell_type": "markdown",
   "id": "698043c8-ce7b-4294-96bd-f1cbbde5d2c1",
   "metadata": {},
   "source": [
    "# Q5. Calculate the covariance matrix for the following variables in a dataset: Age, Income, and Education level. Interpret the results."
   ]
  },
  {
   "cell_type": "code",
   "execution_count": 2,
   "id": "01952ff7-98a4-4ddb-8cce-60fef05b7487",
   "metadata": {},
   "outputs": [
    {
     "name": "stdout",
     "output_type": "stream",
     "text": [
      "Covariance Matrix:\n",
      " [[6.25e+01 1.25e+05 3.00e+01]\n",
      " [1.25e+05 2.50e+08 6.00e+04]\n",
      " [3.00e+01 6.00e+04 1.48e+01]]\n"
     ]
    }
   ],
   "source": [
    "import numpy as np\n",
    "\n",
    "# create a sample dataset\n",
    "age = [25, 30, 35, 40, 45]\n",
    "income = [40000, 50000, 60000, 70000, 80000]\n",
    "education = [12, 16, 18, 20, 22]\n",
    "\n",
    "# combine the variables into a numpy array\n",
    "data = np.array([age, income, education])\n",
    "\n",
    "# calculate the covariance matrix\n",
    "cov_matrix = np.cov(data)\n",
    "\n",
    "print(\"Covariance Matrix:\\n\", cov_matrix)\n"
   ]
  },
  {
   "cell_type": "markdown",
   "id": "9e1486b4-513b-46ab-8231-99d4f898af64",
   "metadata": {},
   "source": [
    "# Q6. You are working on a machine learning project with a dataset containing several categorical variables, including \"Gender\" (Male/Female), \"Education Level\" (High School/Bachelor's/Master's/PhD), and \"Employment Status\" (Unemployed/Part-Time/Full-Time). Which encoding method would you use for each variable, and why?"
   ]
  },
  {
   "cell_type": "code",
   "execution_count": 3,
   "id": "45cc57df-c4ee-4c62-9b11-167df3c8ec27",
   "metadata": {},
   "outputs": [
    {
     "ename": "AttributeError",
     "evalue": "'OneHotEncoder' object has no attribute 'get_feature_names'",
     "output_type": "error",
     "traceback": [
      "\u001b[0;31m---------------------------------------------------------------------------\u001b[0m",
      "\u001b[0;31mAttributeError\u001b[0m                            Traceback (most recent call last)",
      "Cell \u001b[0;32mIn[3], line 18\u001b[0m\n\u001b[1;32m     16\u001b[0m \u001b[38;5;66;03m# One-hot encoding for \"Education Level\"\u001b[39;00m\n\u001b[1;32m     17\u001b[0m ohe \u001b[38;5;241m=\u001b[39m OneHotEncoder()\n\u001b[0;32m---> 18\u001b[0m ohe_df \u001b[38;5;241m=\u001b[39m pd\u001b[38;5;241m.\u001b[39mDataFrame(ohe\u001b[38;5;241m.\u001b[39mfit_transform(df[[\u001b[38;5;124m\"\u001b[39m\u001b[38;5;124mEducation Level\u001b[39m\u001b[38;5;124m\"\u001b[39m]])\u001b[38;5;241m.\u001b[39mtoarray(), columns\u001b[38;5;241m=\u001b[39m\u001b[43mohe\u001b[49m\u001b[38;5;241;43m.\u001b[39;49m\u001b[43mget_feature_names\u001b[49m([\u001b[38;5;124m\"\u001b[39m\u001b[38;5;124mEducation Level\u001b[39m\u001b[38;5;124m\"\u001b[39m]))\n\u001b[1;32m     19\u001b[0m df \u001b[38;5;241m=\u001b[39m pd\u001b[38;5;241m.\u001b[39mconcat([df, ohe_df], axis\u001b[38;5;241m=\u001b[39m\u001b[38;5;241m1\u001b[39m)\n\u001b[1;32m     20\u001b[0m df \u001b[38;5;241m=\u001b[39m df\u001b[38;5;241m.\u001b[39mdrop(\u001b[38;5;124m\"\u001b[39m\u001b[38;5;124mEducation Level\u001b[39m\u001b[38;5;124m\"\u001b[39m, axis\u001b[38;5;241m=\u001b[39m\u001b[38;5;241m1\u001b[39m)\n",
      "\u001b[0;31mAttributeError\u001b[0m: 'OneHotEncoder' object has no attribute 'get_feature_names'"
     ]
    }
   ],
   "source": [
    "import pandas as pd\n",
    "from sklearn.preprocessing import LabelEncoder, OneHotEncoder\n",
    "\n",
    "# Create a sample dataset\n",
    "data = {\n",
    "    \"Gender\": [\"Male\", \"Female\", \"Male\", \"Female\"],\n",
    "    \"Education Level\": [\"Bachelor's\", \"Master's\", \"High School\", \"PhD\"],\n",
    "    \"Employment Status\": [\"Full-Time\", \"Part-Time\", \"Unemployed\", \"Full-Time\"]\n",
    "}\n",
    "df = pd.DataFrame(data)\n",
    "\n",
    "# Binary encoding for \"Gender\"\n",
    "le = LabelEncoder()\n",
    "df[\"Gender\"] = le.fit_transform(df[\"Gender\"])\n",
    "\n",
    "# One-hot encoding for \"Education Level\"\n",
    "ohe = OneHotEncoder()\n",
    "ohe_df = pd.DataFrame(ohe.fit_transform(df[[\"Education Level\"]]).toarray(), columns=ohe.get_feature_names([\"Education Level\"]))\n",
    "df = pd.concat([df, ohe_df], axis=1)\n",
    "df = df.drop(\"Education Level\", axis=1)\n",
    "\n",
    "# One-hot encoding for \"Employment Status\"\n",
    "ohe_df = pd.DataFrame(ohe.fit_transform(df[[\"Employment Status\"]]).toarray(), columns=ohe.get_feature_names([\"Employment Status\"]))\n",
    "df = pd.concat([df, ohe_df], axis=1)\n",
    "df = df.drop(\"Employment Status\", axis=1)\n",
    "\n",
    "print(df)"
   ]
  },
  {
   "cell_type": "code",
   "execution_count": 4,
   "id": "ba28fa53-79a4-4f8c-b575-f0add348f72f",
   "metadata": {},
   "outputs": [
    {
     "name": "stdout",
     "output_type": "stream",
     "text": [
      "   gender_Female  gender_Male  education_Bachelor  education_High School  \\\n",
      "0            0.0          1.0                 0.0                    1.0   \n",
      "1            1.0          0.0                 1.0                    0.0   \n",
      "2            0.0          1.0                 0.0                    0.0   \n",
      "3            1.0          0.0                 0.0                    0.0   \n",
      "\n",
      "   education_Master  education_PhD  \n",
      "0               0.0            0.0  \n",
      "1               0.0            0.0  \n",
      "2               1.0            0.0  \n",
      "3               0.0            1.0  \n"
     ]
    }
   ],
   "source": [
    "from sklearn.preprocessing import OneHotEncoder\n",
    "import pandas as pd\n",
    "\n",
    "# Create sample data\n",
    "data = {'gender': ['Male', 'Female', 'Male', 'Female'],\n",
    "        'education': ['High School', 'Bachelor', 'Master', 'PhD']}\n",
    "df = pd.DataFrame(data)\n",
    "\n",
    "# Initialize OneHotEncoder\n",
    "encoder = OneHotEncoder()\n",
    "\n",
    "# Fit and transform data\n",
    "encoded_data = encoder.fit_transform(df[['gender', 'education']])\n",
    "\n",
    "# Get feature names\n",
    "feature_names = encoder.get_feature_names_out(['gender', 'education'])\n",
    "\n",
    "# Convert encoded data to DataFrame\n",
    "encoded_df = pd.DataFrame(encoded_data.toarray(), columns=feature_names)\n",
    "\n",
    "# Show encoded data\n",
    "print(encoded_df)\n"
   ]
  },
  {
   "cell_type": "markdown",
   "id": "83a6c37e-e2b0-4032-b34a-e1ad5219e823",
   "metadata": {},
   "source": [
    "# Q7. You are analyzing a dataset with two continuous variables, \"Temperature\" and \"Humidity\", and two categorical variables, \"Weather Condition\" (Sunny/Cloudy/Rainy) and \"Wind Direction\" (North/South/East/West). Calculate the covariance between each pair of variables and interpret the results."
   ]
  },
  {
   "cell_type": "code",
   "execution_count": 5,
   "id": "9d7e8b5d-2fce-4626-bb0d-e8e9ff65ae80",
   "metadata": {},
   "outputs": [
    {
     "name": "stdout",
     "output_type": "stream",
     "text": [
      "Covariance matrix between Temperature and Humidity:\n",
      " [[ 8.2 17.4]\n",
      " [17.4 37.3]]\n",
      "Covariance between Weather Condition and Wind Direction: 0.55\n"
     ]
    }
   ],
   "source": [
    "import numpy as np\n",
    "import pandas as pd\n",
    "\n",
    "# Create a sample dataset\n",
    "data = {\n",
    "    \"Temperature\": [25, 30, 28, 32, 26],\n",
    "    \"Humidity\": [50, 60, 55, 65, 52],\n",
    "    \"Weather Condition\": [\"Sunny\", \"Cloudy\", \"Sunny\", \"Rainy\", \"Cloudy\"],\n",
    "    \"Wind Direction\": [\"North\", \"South\", \"East\", \"West\", \"North\"]\n",
    "}\n",
    "df = pd.DataFrame(data)\n",
    "\n",
    "# Calculate the covariance matrix\n",
    "cov_matrix = np.cov(df[[\"Temperature\", \"Humidity\"]].T)\n",
    "\n",
    "# Print the covariance matrix\n",
    "print(\"Covariance matrix between Temperature and Humidity:\\n\", cov_matrix)\n",
    "\n",
    "# Calculate the covariance between Weather Condition and Wind Direction\n",
    "cov_wc_wd = np.cov(pd.factorize(df[\"Weather Condition\"])[0], pd.factorize(df[\"Wind Direction\"])[0])[0][1]\n",
    "print(\"Covariance between Weather Condition and Wind Direction:\", cov_wc_wd)"
   ]
  },
  {
   "cell_type": "code",
   "execution_count": null,
   "id": "b1733a48-13a8-4138-8338-684d2255649a",
   "metadata": {},
   "outputs": [],
   "source": []
  }
 ],
 "metadata": {
  "kernelspec": {
   "display_name": "Python 3 (ipykernel)",
   "language": "python",
   "name": "python3"
  },
  "language_info": {
   "codemirror_mode": {
    "name": "ipython",
    "version": 3
   },
   "file_extension": ".py",
   "mimetype": "text/x-python",
   "name": "python",
   "nbconvert_exporter": "python",
   "pygments_lexer": "ipython3",
   "version": "3.10.8"
  }
 },
 "nbformat": 4,
 "nbformat_minor": 5
}

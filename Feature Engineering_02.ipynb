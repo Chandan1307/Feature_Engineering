{
 "cells": [
  {
   "cell_type": "markdown",
   "id": "17310331-8e9d-441b-9dc6-2256675655a8",
   "metadata": {},
   "source": [
    "# Q1. What is data encoding? How is it useful in data science?"
   ]
  },
  {
   "cell_type": "markdown",
   "id": "1c499c6e-3afc-4a7c-a0e1-eca0ff5fd9ec",
   "metadata": {},
   "source": [
    "Data encoding is the process of converting data from one format or representation to another. In data science, data encoding is useful for transforming categorical or text data into a numerical format that can be easily processed by machine learning algorithms.\n",
    "\n",
    "Many machine learning algorithms can only work with numerical data. Therefore, data encoding is crucial for processing categorical or text data, which can be challenging to analyze in their raw form. By encoding data, we can transform categorical or text data into a numerical format that can be used for feature engineering, model training, and evaluation.\n",
    "\n",
    "There are different techniques for data encoding, including label encoding, one-hot encoding, binary encoding, and ordinal encoding. The choice of encoding technique depends on the type of data and the requirements of the machine learning model."
   ]
  },
  {
   "cell_type": "markdown",
   "id": "2393f59b-2d4c-4020-968f-15eefaabb96b",
   "metadata": {},
   "source": [
    "# Q2. What is nominal encoding? Provide an example of how you would use it in a real-world scenario."
   ]
  },
  {
   "cell_type": "markdown",
   "id": "76bdf8fc-1445-4521-b904-35943c8311f9",
   "metadata": {},
   "source": [
    "Nominal encoding, also known as one-hot encoding, is a data encoding technique used to convert categorical data into a numeric format that can be used by machine learning algorithms. In nominal encoding, each category is assigned a unique binary value, with one bit set to 1 and all others set to 0.\n",
    "\n",
    "For example, suppose we have a dataset of cars that includes the color of the car as a categorical variable. The color variable has three possible values: red, green, and blue. We can use nominal encoding to convert this variable into three binary variables: one for each possible value. In this case, we would create three new variables: is_red, is_green, and is_blue. For each car in the dataset, the value of one of these variables would be set to 1 to indicate the color of the car."
   ]
  },
  {
   "cell_type": "code",
   "execution_count": null,
   "id": "c3af9d7a-c409-4f63-bfd4-3028a565c756",
   "metadata": {},
   "outputs": [],
   "source": [
    "Original Data:\n",
    "| Car Model | Color |\n",
    "|-----------|-------|\n",
    "| Model 1   | Red   |\n",
    "| Model 2   | Green |\n",
    "| Model 3   | Blue  |\n",
    "| Model 4   | Red   |\n",
    "| Model 5   | Green |\n",
    "\n",
    "Nominal Encoding:\n",
    "| Car Model | is_red | is_green | is_blue |\n",
    "|-----------|--------|----------|---------|\n",
    "| Model 1   | 1      | 0        | 0       |\n",
    "| Model 2   | 0      | 1        | 0       |\n",
    "| Model 3   | 0      | 0        | 1       |\n",
    "| Model 4   | 1      | 0        | 0       |\n",
    "| Model 5   | 0      | 1        | 0       |\n"
   ]
  },
  {
   "cell_type": "markdown",
   "id": "0ca567e9-1e5d-4c6f-9392-89f3b4676869",
   "metadata": {},
   "source": [
    "This type of encoding can be useful in data science because many machine learning algorithms require numeric data as input, and nominal encoding provides a way to convert categorical data into a format that can be used by these algorithms. It also avoids the issue of assigning arbitrary values to categories, which could introduce bias into the analysis."
   ]
  },
  {
   "cell_type": "markdown",
   "id": "1620f452-38fc-465d-82ad-1f1f8574e7cb",
   "metadata": {},
   "source": [
    "# Q3. In what situations is nominal encoding preferred over one-hot encoding? Provide a practical example."
   ]
  },
  {
   "cell_type": "code",
   "execution_count": 1,
   "id": "f2c714e5-5019-4d30-b291-09cb0460bf43",
   "metadata": {},
   "outputs": [
    {
     "data": {
      "text/html": [
       "<div>\n",
       "<style scoped>\n",
       "    .dataframe tbody tr th:only-of-type {\n",
       "        vertical-align: middle;\n",
       "    }\n",
       "\n",
       "    .dataframe tbody tr th {\n",
       "        vertical-align: top;\n",
       "    }\n",
       "\n",
       "    .dataframe thead th {\n",
       "        text-align: right;\n",
       "    }\n",
       "</style>\n",
       "<table border=\"1\" class=\"dataframe\">\n",
       "  <thead>\n",
       "    <tr style=\"text-align: right;\">\n",
       "      <th></th>\n",
       "      <th>gender</th>\n",
       "      <th>race_ethnicity</th>\n",
       "      <th>parental_level_of_education</th>\n",
       "      <th>lunch</th>\n",
       "      <th>test_preparation_course</th>\n",
       "      <th>math_score</th>\n",
       "      <th>reading_score</th>\n",
       "      <th>writing_score</th>\n",
       "    </tr>\n",
       "  </thead>\n",
       "  <tbody>\n",
       "    <tr>\n",
       "      <th>0</th>\n",
       "      <td>female</td>\n",
       "      <td>group B</td>\n",
       "      <td>bachelor's degree</td>\n",
       "      <td>standard</td>\n",
       "      <td>none</td>\n",
       "      <td>72</td>\n",
       "      <td>72</td>\n",
       "      <td>74</td>\n",
       "    </tr>\n",
       "    <tr>\n",
       "      <th>1</th>\n",
       "      <td>female</td>\n",
       "      <td>group C</td>\n",
       "      <td>some college</td>\n",
       "      <td>standard</td>\n",
       "      <td>completed</td>\n",
       "      <td>69</td>\n",
       "      <td>90</td>\n",
       "      <td>88</td>\n",
       "    </tr>\n",
       "    <tr>\n",
       "      <th>2</th>\n",
       "      <td>female</td>\n",
       "      <td>group B</td>\n",
       "      <td>master's degree</td>\n",
       "      <td>standard</td>\n",
       "      <td>none</td>\n",
       "      <td>90</td>\n",
       "      <td>95</td>\n",
       "      <td>93</td>\n",
       "    </tr>\n",
       "    <tr>\n",
       "      <th>3</th>\n",
       "      <td>male</td>\n",
       "      <td>group A</td>\n",
       "      <td>associate's degree</td>\n",
       "      <td>free/reduced</td>\n",
       "      <td>none</td>\n",
       "      <td>47</td>\n",
       "      <td>57</td>\n",
       "      <td>44</td>\n",
       "    </tr>\n",
       "    <tr>\n",
       "      <th>4</th>\n",
       "      <td>male</td>\n",
       "      <td>group C</td>\n",
       "      <td>some college</td>\n",
       "      <td>standard</td>\n",
       "      <td>none</td>\n",
       "      <td>76</td>\n",
       "      <td>78</td>\n",
       "      <td>75</td>\n",
       "    </tr>\n",
       "  </tbody>\n",
       "</table>\n",
       "</div>"
      ],
      "text/plain": [
       "   gender race_ethnicity  ... reading_score writing_score\n",
       "0  female        group B  ...            72            74\n",
       "1  female        group C  ...            90            88\n",
       "2  female        group B  ...            95            93\n",
       "3    male        group A  ...            57            44\n",
       "4    male        group C  ...            78            75\n",
       "\n",
       "[5 rows x 8 columns]"
      ]
     },
     "execution_count": 1,
     "metadata": {},
     "output_type": "execute_result"
    }
   ],
   "source": [
    "import pandas as pd\n",
    "import numpy as np\n",
    "\n",
    "df = pd.read_csv(\"stud.csv\")\n",
    "df.head()"
   ]
  },
  {
   "cell_type": "code",
   "execution_count": 3,
   "id": "0a12037d-1132-4236-99b5-489bc6d3b671",
   "metadata": {},
   "outputs": [
    {
     "data": {
      "text/plain": [
       "(1000, 8)"
      ]
     },
     "execution_count": 3,
     "metadata": {},
     "output_type": "execute_result"
    }
   ],
   "source": [
    "df.shape"
   ]
  },
  {
   "cell_type": "code",
   "execution_count": 4,
   "id": "be7e4999-de10-4098-a66d-032b1d9238b4",
   "metadata": {},
   "outputs": [
    {
     "name": "stdout",
     "output_type": "stream",
     "text": [
      "<class 'pandas.core.frame.DataFrame'>\n",
      "RangeIndex: 1000 entries, 0 to 999\n",
      "Data columns (total 8 columns):\n",
      " #   Column                       Non-Null Count  Dtype \n",
      "---  ------                       --------------  ----- \n",
      " 0   gender                       1000 non-null   object\n",
      " 1   race_ethnicity               1000 non-null   object\n",
      " 2   parental_level_of_education  1000 non-null   object\n",
      " 3   lunch                        1000 non-null   object\n",
      " 4   test_preparation_course      1000 non-null   object\n",
      " 5   math_score                   1000 non-null   int64 \n",
      " 6   reading_score                1000 non-null   int64 \n",
      " 7   writing_score                1000 non-null   int64 \n",
      "dtypes: int64(3), object(5)\n",
      "memory usage: 62.6+ KB\n"
     ]
    }
   ],
   "source": [
    "df.info()"
   ]
  },
  {
   "cell_type": "code",
   "execution_count": 6,
   "id": "4c8dcd58-16b9-4983-bfb4-3f9443021045",
   "metadata": {},
   "outputs": [
    {
     "data": {
      "text/plain": [
       "gender                         0\n",
       "race_ethnicity                 0\n",
       "parental_level_of_education    0\n",
       "lunch                          0\n",
       "test_preparation_course        0\n",
       "math_score                     0\n",
       "reading_score                  0\n",
       "writing_score                  0\n",
       "dtype: int64"
      ]
     },
     "execution_count": 6,
     "metadata": {},
     "output_type": "execute_result"
    }
   ],
   "source": [
    "df.isnull().sum() # Missing Value Check"
   ]
  },
  {
   "cell_type": "code",
   "execution_count": 7,
   "id": "fc69e38a-b2df-41ba-ae19-75d994ab46ba",
   "metadata": {},
   "outputs": [
    {
     "data": {
      "text/plain": [
       "0"
      ]
     },
     "execution_count": 7,
     "metadata": {},
     "output_type": "execute_result"
    }
   ],
   "source": [
    "df.duplicated().sum() # Check Duplicate value"
   ]
  },
  {
   "cell_type": "code",
   "execution_count": 14,
   "id": "e923ff78-a6a8-44d6-9345-fb57e7f2979b",
   "metadata": {},
   "outputs": [
    {
     "data": {
      "text/plain": [
       "['gender',\n",
       " 'race_ethnicity',\n",
       " 'parental_level_of_education',\n",
       " 'lunch',\n",
       " 'test_preparation_course']"
      ]
     },
     "execution_count": 14,
     "metadata": {},
     "output_type": "execute_result"
    }
   ],
   "source": [
    "[feature for feature in df.columns if df[feature].dtype=='O']"
   ]
  },
  {
   "cell_type": "code",
   "execution_count": 17,
   "id": "012539d4-1496-471a-b46e-ccaddb966890",
   "metadata": {},
   "outputs": [],
   "source": [
    "#segrregate numerical and categorical features\n",
    "numerical_feature = [feature for feature in df.columns if df[feature].dtype != 'O']\n",
    "categorical_feature = [feature for feature in df.columns if df[feature].dtype == 'O']"
   ]
  },
  {
   "cell_type": "code",
   "execution_count": 18,
   "id": "e690c81f-ee1a-44ed-ab2c-e17ac99ba25e",
   "metadata": {},
   "outputs": [
    {
     "data": {
      "text/plain": [
       "['math_score', 'reading_score', 'writing_score']"
      ]
     },
     "execution_count": 18,
     "metadata": {},
     "output_type": "execute_result"
    }
   ],
   "source": [
    "numerical_feature"
   ]
  },
  {
   "cell_type": "code",
   "execution_count": 19,
   "id": "e248026d-1ee7-4cfc-8808-de3c0dca3f09",
   "metadata": {},
   "outputs": [
    {
     "data": {
      "text/plain": [
       "['gender',\n",
       " 'race_ethnicity',\n",
       " 'parental_level_of_education',\n",
       " 'lunch',\n",
       " 'test_preparation_course']"
      ]
     },
     "execution_count": 19,
     "metadata": {},
     "output_type": "execute_result"
    }
   ],
   "source": [
    "categorical_feature"
   ]
  },
  {
   "cell_type": "markdown",
   "id": "19e49748-3634-41f1-ba9f-52dbaaae4ab5",
   "metadata": {},
   "source": [
    "# Q4. Suppose you have a dataset containing categorical data with 5 unique values. Which encodingtechnique would you use to transform this data into a format suitable for machine learning algorithms? Explain why you made this choice."
   ]
  },
  {
   "cell_type": "markdown",
   "id": "4459645c-f501-44f3-a95f-1a296ba5262f",
   "metadata": {},
   "source": [
    "The choice of encoding technique depends on the type of categorical data, the number of unique values, and the specific machine learning algorithm used. If the categorical data has a hierarchical structure or ordinal relationship between categories, then ordinal encoding can be used. If there is no such relationship, then one-hot encoding or binary encoding can be used.\n",
    "\n",
    "In this scenario, since there are only five unique values, and assuming there is no hierarchical structure or ordinal relationship between the categories, one-hot encoding or binary encoding can be used. One-hot encoding creates a binary column for each unique category, indicating its presence or absence in the sample. On the other hand, binary encoding uses binary representation of integers to encode categorical variables, which can be more efficient for large datasets.\n",
    "\n",
    "The choice between one-hot and binary encoding ultimately depends on the specific characteristics of the dataset and the machine learning algorithm being used."
   ]
  },
  {
   "cell_type": "markdown",
   "id": "fa49f0b9-6afd-44a8-b484-0db97545293b",
   "metadata": {},
   "source": [
    "# Q5. In a machine learning project, you have a dataset with 1000 rows and 5 columns. Two of the columnsare categorical, and the remaining three columns are numerical. If you were to use nominal encoding to transform the categorical data, how many new columns would be created? Show your calculations."
   ]
  },
  {
   "cell_type": "markdown",
   "id": "c81bdf60-a2a2-46b7-8c45-4840a32eeb17",
   "metadata": {},
   "source": [
    "If there are two categorical columns with 5 unique values, then the total number of unique combinations would be 5 x 5 = 25.\n",
    "\n",
    "For nominal encoding, we create a new column for each unique combination of the two categorical variables, so there would be 25 new columns.\n",
    "\n",
    "Therefore, the total number of columns in the transformed dataset would be 3 (original numerical columns) + 25 (nominal encoded categorical columns) = 28.\n"
   ]
  },
  {
   "cell_type": "markdown",
   "id": "a96ec6e6-9a84-4e70-959d-eda225c774c9",
   "metadata": {},
   "source": [
    "# Q6. You are working with a dataset containing information about different types of animals, including their species, habitat, and diet. Which encoding technique would you use to transform the categorical data into a format suitable for machine learning algorithms? Justify your answer."
   ]
  },
  {
   "cell_type": "markdown",
   "id": "f43ab0d7-5d77-4805-91a2-79d6fb401a3d",
   "metadata": {},
   "source": [
    "Based on the given information, there are multiple categorical variables in the dataset, including the species, habitat, and diet of animals. One suitable encoding technique for this scenario could be one-hot encoding. This is because one-hot encoding works well for categorical variables with multiple categories, and it creates a binary representation of each category in a separate column. In this case, each unique category in the species, habitat, and diet columns can be represented using one-hot encoding, with each animal having a separate row with binary values representing their species, habitat, and diet. This would result in a dataset with numerical values that can be used for machine learning algorithms."
   ]
  },
  {
   "cell_type": "markdown",
   "id": "6d0c2146-5bc6-4aa1-ad7a-801ec86b1e7d",
   "metadata": {},
   "source": [
    "# Q7.You are working on a project that involves predicting customer churn for a telecommunications company. You have a dataset with 5 features, including the customer's gender, age, contract type, monthly charges, and tenure. Which encoding technique(s) would you use to transform the categorical data into numerical data? Provide a step-by-step explanation of how you would implement the encoding."
   ]
  },
  {
   "cell_type": "markdown",
   "id": "7b91665d-a473-499f-bd85-016534bc797c",
   "metadata": {},
   "source": [
    "In this scenario, we have only one categorical feature, which is the contract type. We can use the nominal encoding technique to transform this feature into numerical data. Here's a step-by-step explanation of how to implement nominal encoding in Python:"
   ]
  },
  {
   "cell_type": "code",
   "execution_count": 1,
   "id": "ac7d36a7-6cd8-4785-9040-1a33cb64f667",
   "metadata": {},
   "outputs": [],
   "source": [
    "# Import the necessary libraries:\n",
    "import pandas as pd\n",
    "from sklearn.preprocessing import LabelEncoder"
   ]
  },
  {
   "cell_type": "code",
   "execution_count": null,
   "id": "0d24a788-b5f1-44b8-887d-824bb7b4bb88",
   "metadata": {},
   "outputs": [],
   "source": [
    "# Load the dataset into a Pandas DataFrame:\n",
    "df = pd.read_csv('telecom_dataset.csv')"
   ]
  },
  {
   "cell_type": "code",
   "execution_count": null,
   "id": "be283e2f-c98d-48da-a806-f2c853c63376",
   "metadata": {},
   "outputs": [],
   "source": [
    "# Separate the features from the target variable:\n",
    "X = df[['gender', 'age', 'contract_type', 'monthly_charges', 'tenure']]\n",
    "y = df['churn']"
   ]
  },
  {
   "cell_type": "code",
   "execution_count": null,
   "id": "da24fe59-f110-41de-8376-0de154d47135",
   "metadata": {},
   "outputs": [],
   "source": [
    "# Apply nominal encoding to the 'contract_type' column:\n",
    "le = LabelEncoder()\n",
    "X['contract_type'] = le.fit_transform(X['contract_type'])"
   ]
  },
  {
   "cell_type": "code",
   "execution_count": null,
   "id": "00f9a9d0-b4d2-4624-b64f-274a0774f353",
   "metadata": {},
   "outputs": [],
   "source": [
    "# Check the transformed dataset:\n",
    "print(X.head())"
   ]
  },
  {
   "cell_type": "markdown",
   "id": "7348fdb3-3abd-4a52-a06c-ea69fbbeda66",
   "metadata": {},
   "source": [
    "The output will show the transformed 'contract_type' column with numerical values instead of categorical values.\n",
    "\n",
    "Note: It's important to keep in mind that if we have more than one categorical feature, we might need to use other encoding techniques, such as one-hot encoding."
   ]
  },
  {
   "cell_type": "code",
   "execution_count": null,
   "id": "87e863b8-2541-4669-a820-d58ff8f58fc7",
   "metadata": {},
   "outputs": [],
   "source": []
  }
 ],
 "metadata": {
  "kernelspec": {
   "display_name": "Python 3 (ipykernel)",
   "language": "python",
   "name": "python3"
  },
  "language_info": {
   "codemirror_mode": {
    "name": "ipython",
    "version": 3
   },
   "file_extension": ".py",
   "mimetype": "text/x-python",
   "name": "python",
   "nbconvert_exporter": "python",
   "pygments_lexer": "ipython3",
   "version": "3.10.8"
  }
 },
 "nbformat": 4,
 "nbformat_minor": 5
}

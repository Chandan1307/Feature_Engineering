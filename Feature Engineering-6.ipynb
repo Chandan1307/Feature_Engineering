{
 "cells": [
  {
   "cell_type": "markdown",
   "id": "c258b5d4-8d39-4117-839a-2012a6291285",
   "metadata": {},
   "source": [
    "# Q1. Pearson correlation coefficient is a measure of the linear relationship between two variables. Suppose you have collected data on the amount of time students spend studying for an exam and their final exam scores. Calculate the Pearson correlation coefficient between these two variables and interpret the result."
   ]
  },
  {
   "cell_type": "code",
   "execution_count": 1,
   "id": "a2a0fafa-9412-4839-9fcb-fb53a9cb5371",
   "metadata": {},
   "outputs": [
    {
     "name": "stdout",
     "output_type": "stream",
     "text": [
      "Pearson correlation coefficient: 0.9375293163708658\n",
      "p-value: 6.17658368022204e-05\n"
     ]
    }
   ],
   "source": [
    "import scipy.stats as stats\n",
    "\n",
    "# Sample data for study time and exam scores\n",
    "study_time = [10, 20, 30, 40, 50, 60, 70, 80, 90, 100]\n",
    "exam_scores = [60, 70, 80, 85, 90, 92, 95, 96, 98, 100]\n",
    "\n",
    "# Calculate Pearson correlation coefficient and p-value\n",
    "corr_coef, p_value = stats.pearsonr(study_time, exam_scores)\n",
    "\n",
    "print(\"Pearson correlation coefficient:\", corr_coef)\n",
    "print(\"p-value:\", p_value)"
   ]
  },
  {
   "cell_type": "markdown",
   "id": "d2acac9e-2a94-4c9c-bde6-a6083135c0aa",
   "metadata": {},
   "source": [
    "# Q2. Spearman's rank correlation is a measure of the monotonic relationship between two variables.Suppose you have collected data on the amount of sleep individuals get each night and their overall job satisfaction level on a scale of 1 to 10. Calculate the Spearman's rank correlation between these two variables and interpret the result."
   ]
  },
  {
   "cell_type": "code",
   "execution_count": 2,
   "id": "6c1a357c-d57c-47ec-bc38-58c2b16d5f2f",
   "metadata": {},
   "outputs": [
    {
     "name": "stdout",
     "output_type": "stream",
     "text": [
      "Spearman's rank correlation coefficient: 0.99\n",
      "P-value: 0.000\n"
     ]
    }
   ],
   "source": [
    "import numpy as np\n",
    "from scipy.stats import spearmanr\n",
    "\n",
    "# create sample data\n",
    "sleep = [7, 6, 8, 7, 5, 6, 7, 8, 5, 6]\n",
    "satisfaction = [6, 5, 8, 7, 4, 5, 7, 9, 4, 5]\n",
    "\n",
    "# Calculate Spearman's rank correlation coefficient\n",
    "corr, pval = spearmanr(sleep, satisfaction)\n",
    "\n",
    "print(f\"Spearman's rank correlation coefficient: {corr:.2f}\")\n",
    "print(f\"P-value: {pval:.3f}\")"
   ]
  },
  {
   "cell_type": "markdown",
   "id": "13b82955-19a2-4742-8baa-4916b9f9e819",
   "metadata": {},
   "source": [
    "# Q3. Suppose you are conducting a study to examine the relationship between the number of hours of exercise per week and body mass index (BMI) in a sample of adults. You collected data on both variables for 50 participants. Calculate the Pearson correlation coefficient and the Spearman's rank correlation between these two variables and compare the results."
   ]
  },
  {
   "cell_type": "code",
   "execution_count": 4,
   "id": "ca0e987b-7e07-42b5-bd3b-214425aa7a62",
   "metadata": {},
   "outputs": [
    {
     "name": "stdout",
     "output_type": "stream",
     "text": [
      "Pearson correlation coefficient: 0.08, p-value: 0.585\n",
      "Spearman's rank correlation coefficient: 0.15, p-value: 0.304\n"
     ]
    }
   ],
   "source": [
    "import scipy.stats as stats\n",
    "import numpy as np\n",
    "\n",
    "# Generate random data\n",
    "hours_exercised = np.random.randint(1, 10, 50)\n",
    "bmi = np.random.normal(25, 2, 50)\n",
    "\n",
    "# Calculate Pearson correlation coefficient\n",
    "corr_pearson, pval_pearson = stats.pearsonr(hours_exercised, bmi)\n",
    "\n",
    "# Calculate Spearman's rank correlation\n",
    "corr_spearman, pval_spearman = stats.spearmanr(hours_exercised, bmi)\n",
    "\n",
    "print(f\"Pearson correlation coefficient: {corr_pearson:.2f}, p-value: {pval_pearson:.3f}\")\n",
    "print(f\"Spearman's rank correlation coefficient: {corr_spearman:.2f}, p-value: {pval_spearman:.3f}\")"
   ]
  },
  {
   "cell_type": "markdown",
   "id": "13f2ca22-f46a-443e-a7bf-2d1df92100a2",
   "metadata": {},
   "source": [
    "# Q4. A researcher is interested in examining the relationship between the number of hours individuals spend watching television per day and their level of physical activity. The researcher collected data on both variables from a sample of 50 participants. Calculate the Pearson correlation coefficient between these two variables."
   ]
  },
  {
   "cell_type": "code",
   "execution_count": 6,
   "id": "f1c38e5f-ddfd-448e-8e29-2744221d82b5",
   "metadata": {},
   "outputs": [
    {
     "name": "stdout",
     "output_type": "stream",
     "text": [
      "Pearson correlation coefficient: 0.99\n",
      "P-value: 0.001\n"
     ]
    }
   ],
   "source": [
    "from scipy.stats import pearsonr\n",
    "\n",
    "tv_hours = [1,3,5,8,9]\n",
    "physical_activity = [1,2,3,4,5]\n",
    "\n",
    "# Assuming the data is stored in two arrays: tv_hours and physical_activity\n",
    "corr, pval = pearsonr(tv_hours, physical_activity)\n",
    "\n",
    "print(f\"Pearson correlation coefficient: {corr:.2f}\")\n",
    "print(f\"P-value: {pval:.3f}\")\n"
   ]
  },
  {
   "cell_type": "markdown",
   "id": "f9b36cc7-ed33-41a3-bd25-ebf6c1766178",
   "metadata": {},
   "source": [
    "# Q5. A survey was conducted to examine the relationship between age and preference for a particular brand of soft drink. The survey results are shown below:\n",
    "\n",
    "# Age(years)      |      Soft drink prefrence\n",
    "    25                   Coke\n",
    "    42                   Pepsi\n",
    "    37                   Mountain dew\n",
    "    19                   Coke\n",
    "    31                   Pepsi\n",
    "    28                   Coke\n"
   ]
  },
  {
   "cell_type": "code",
   "execution_count": 7,
   "id": "d9a08690-c699-4303-989d-069ddcf99ff6",
   "metadata": {},
   "outputs": [
    {
     "name": "stdout",
     "output_type": "stream",
     "text": [
      "   Age Soft drink preference\n",
      "0   25                  Coke\n",
      "1   42                 Pepsi\n",
      "2   37          Mountain dew\n",
      "3   19                  Coke\n",
      "4   31                 Pepsi\n",
      "5   28                  Coke\n",
      "col_0                  count\n",
      "Soft drink preference       \n",
      "Coke                       3\n",
      "Mountain dew               1\n",
      "Pepsi                      2\n",
      "                        Age\n",
      "Soft drink preference      \n",
      "Coke                   24.0\n",
      "Mountain dew           37.0\n",
      "Pepsi                  36.5\n"
     ]
    }
   ],
   "source": [
    "import pandas as pd\n",
    "\n",
    "# create dataframe\n",
    "df = pd.DataFrame({\n",
    "    'Age': [25, 42, 37, 19, 31, 28],\n",
    "    'Soft drink preference': ['Coke', 'Pepsi', 'Mountain dew', 'Coke', 'Pepsi', 'Coke']\n",
    "})\n",
    "\n",
    "# print dataframe\n",
    "print(df)\n",
    "\n",
    "# count frequency of soft drink preferences\n",
    "freq_table = pd.crosstab(index=df['Soft drink preference'], columns='count')\n",
    "print(freq_table)\n",
    "\n",
    "# calculate mean age for each soft drink preference\n",
    "mean_table = df.groupby('Soft drink preference').mean()\n",
    "print(mean_table)"
   ]
  },
  {
   "cell_type": "markdown",
   "id": "c2ca3669-3f62-4b67-86ec-9fd6397b188d",
   "metadata": {},
   "source": [
    "# Q6. A company is interested in examining the relationship between the number of sales calls made per day and the number of sales made per week. The company collected data on both variables from a sample of 30 sales representatives. Calculate the Pearson correlation coefficient between these two variables."
   ]
  },
  {
   "cell_type": "code",
   "execution_count": 12,
   "id": "ec769ea5-9bb3-4f0b-8c58-ba5c26687f4e",
   "metadata": {},
   "outputs": [
    {
     "name": "stdout",
     "output_type": "stream",
     "text": [
      "Pearson correlation coefficient: 0.25\n",
      "P-value: 0.177\n"
     ]
    }
   ],
   "source": [
    "import numpy as np\n",
    "from scipy.stats import pearsonr\n",
    "\n",
    "# generate sample data\n",
    "num_sales_calls = np.random.randint(20, 50, 30)\n",
    "num_sales_made = np.random.randint(5, 15, 30)\n",
    "\n",
    "# calculate Pearson correlation coefficient and p-value\n",
    "corr, pval = pearsonr(num_sales_calls, num_sales_made)\n",
    "\n",
    "# print results\n",
    "print(f\"Pearson correlation coefficient: {corr:.2f}\")\n",
    "print(f\"P-value: {pval:.3f}\")\n"
   ]
  },
  {
   "cell_type": "code",
   "execution_count": null,
   "id": "4ff3af18-fcd8-4a42-8fd2-821058717c2d",
   "metadata": {},
   "outputs": [],
   "source": []
  }
 ],
 "metadata": {
  "kernelspec": {
   "display_name": "Python 3 (ipykernel)",
   "language": "python",
   "name": "python3"
  },
  "language_info": {
   "codemirror_mode": {
    "name": "ipython",
    "version": 3
   },
   "file_extension": ".py",
   "mimetype": "text/x-python",
   "name": "python",
   "nbconvert_exporter": "python",
   "pygments_lexer": "ipython3",
   "version": "3.10.8"
  }
 },
 "nbformat": 4,
 "nbformat_minor": 5
}
